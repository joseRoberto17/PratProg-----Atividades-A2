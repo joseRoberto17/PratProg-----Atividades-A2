{
 "cells": [
  {
   "cell_type": "markdown",
   "metadata": {},
   "source": [
    "1- Faça um Programa que peça o raio de um círculo, calcule e mostre sua área."
   ]
  },
  {
   "cell_type": "code",
   "execution_count": 2,
   "metadata": {},
   "outputs": [
    {
     "name": "stdout",
     "output_type": "stream",
     "text": [
      "Digite o raio 2\n",
      "12.56\n"
     ]
    }
   ],
   "source": [
    "x = float (input(\"Digite o raio \"))\n",
    "\n",
    "area = (3.14 * (x**2))\n",
    "\n",
    "print(area);"
   ]
  },
  {
   "cell_type": "markdown",
   "metadata": {},
   "source": [
    "2- Faça um Programa que calcule a área de um quadrado, em seguida mostre o dobro desta área para o usuário."
   ]
  },
  {
   "cell_type": "code",
   "execution_count": 4,
   "metadata": {},
   "outputs": [
    {
     "name": "stdout",
     "output_type": "stream",
     "text": [
      "Digite lado do quadrado2\n",
      "Área do quadrado: 4.0 \n",
      "Dobro da área: 16.0\n"
     ]
    }
   ],
   "source": [
    "l = float( input (\"Digite lado do quadrado\"))\n",
    "area = l**2;\n",
    "area_dobro = area ** 2;\n",
    "\n",
    "print('Área do quadrado: {} \\nDobro da área: {}'.format(area, area_dobro))"
   ]
  },
  {
   "cell_type": "markdown",
   "metadata": {},
   "source": [
    "3- Faça um Programa que pergunte quanto você ganha por hora e o número de horas\n",
    "trabalhadas no mês. Calcule e mostre o total do seu salário no referido mês.\n"
   ]
  },
  {
   "cell_type": "code",
   "execution_count": 7,
   "metadata": {},
   "outputs": [
    {
     "name": "stdout",
     "output_type": "stream",
     "text": [
      "Digite o seu sálario por hora8\n",
      "Digite o número de horas trabalhadas no mês80\n",
      "Seu sálario é: R$ 640.0\n"
     ]
    }
   ],
   "source": [
    "salario = float(input(\"Digite o seu sálario por hora\"))\n",
    "hora    = int(input(\"Digite o número de horas trabalhadas no mês\"))\n",
    "\n",
    "total   = salario * hora\n",
    "\n",
    "print('Seu sálario é: R$ {}'.format(total))"
   ]
  },
  {
   "cell_type": "markdown",
   "metadata": {},
   "source": [
    "4- Faça um Programa que peça a temperatura em graus Farenheit, transforme e\n",
    "mostre a temperatura em graus Celsius. C = (5 * (F-32) / 9)."
   ]
  },
  {
   "cell_type": "code",
   "execution_count": 14,
   "metadata": {},
   "outputs": [
    {
     "name": "stdout",
     "output_type": "stream",
     "text": [
      "Digite a temperatura em graus Farenheit 74\n",
      "Graus Celsius:      23.33 °\n"
     ]
    }
   ],
   "source": [
    "f = int(input(\"Digite a temperatura em graus Farenheit \"))\n",
    "\n",
    "c = (5*(f-32)/9)\n",
    "\n",
    "print(\"Graus Celsius: {0:10.2f} °\".format(c))"
   ]
  },
  {
   "cell_type": "markdown",
   "metadata": {},
   "source": [
    "5- Faça um Programa que peça a temperatura em graus Celsius, transforme e mostre\n",
    "em graus Farenheit."
   ]
  },
  {
   "cell_type": "code",
   "execution_count": 21,
   "metadata": {},
   "outputs": [
    {
     "name": "stdout",
     "output_type": "stream",
     "text": [
      "Digte a temperatura em graus Celsius 37\n",
      "graus Farenheit:      98.60\n"
     ]
    }
   ],
   "source": [
    "c =float(input(\"Digte a temperatura em graus Celsius \"))\n",
    "\n",
    "f = ((1.8 * c) + 32)\n",
    "\n",
    "print(\"graus Farenheit: {0:10.2f}\".format(f))"
   ]
  },
  {
   "cell_type": "code",
   "execution_count": null,
   "metadata": {},
   "outputs": [],
   "source": [
    "6- Faça um Programa que peça 2 números inteiros e um número real. Calcule e\n",
    "mostre:\n",
    "- o produto do dobro do primeiro com metade do segundo .\n",
    "- a soma do triplo do primeiro com o terceiro.\n",
    "- o terceiro elevado ao cubo."
   ]
  },
  {
   "cell_type": "code",
   "execution_count": 26,
   "metadata": {},
   "outputs": [
    {
     "name": "stdout",
     "output_type": "stream",
     "text": [
      "Digite um numero inteiro15\n",
      "Digite segundo numero inteiro10\n",
      "Digite um numero real15.5\n",
      "O primeiro resultado 22.50, segundo 22.50 e terceiro 22.50\n"
     ]
    }
   ],
   "source": [
    "n1 = int(input(\"Digite um numero inteiro\"))\n",
    "n2 = int(input(\"Digite segundo numero inteiro\"))\n",
    "n3 = float(input(\"Digite um numero real\"))\n",
    "\n",
    "m = n1**2 / n2\n",
    "m2 = n1**3 + n3\n",
    "m3 = n3**3\n",
    "\n",
    "print(\"O primeiro resultado {0:5.2f}, segundo {0:5.2f} e terceiro {0:5.2f}\".format(m,m2,m3))"
   ]
  },
  {
   "cell_type": "markdown",
   "metadata": {},
   "source": [
    "7 - João Papo-de-Pescador, homem de bem, comprou um microcomputador para\n",
    "controlar o rendimento diário de seu trabalho. Toda vez que ele traz um peso de\n",
    "peixes maior que o estabelecido pelo regulamento de pesca do estado de São Paulo\n",
    "(50 quilos) deve pagar uma multa de R$ 4,00 por quilo excedente. João precisa que\n",
    "você faça um programa que leia a variável peso (peso de peixes) e verifique se há\n",
    "excesso. Se houver, gravar na variável excesso e na variável multa o valor da multa\n",
    "que João deverá pagar. Caso contrário mostrar tais variáveis com o conteúdo ZERO."
   ]
  },
  {
   "cell_type": "code",
   "execution_count": 47,
   "metadata": {},
   "outputs": [
    {
     "name": "stdout",
     "output_type": "stream",
     "text": [
      "Digite o peso 55\n",
      "Há excesso 5.0, assim o novo preço é: 20.0\n"
     ]
    }
   ],
   "source": [
    "p = float(input(\"Digite o peso \"))\n",
    "\n",
    "if(p > 50):\n",
    "    multa = p - 50;\n",
    "    m = multa * 4;\n",
    "    print(\"Há excesso {}, assim o novo preço é: {}\".format(multa, m))\n",
    "else:\n",
    "    print(\"Sem excesso\")"
   ]
  },
  {
   "cell_type": "markdown",
   "metadata": {},
   "source": [
    "8 - Faça um Programa que pergunte quanto você ganha por hora e o número de horas\n",
    "trabalhadas no mês. Calcule e mostre o total do seu salário no referido mês,\n",
    "sabendo-se que são descontados 11% para o Imposto de Renda, 8% para o INSS e 5%\n",
    "para o sindicato, faça um programa que nos dê:"
   ]
  },
  {
   "cell_type": "code",
   "execution_count": 1,
   "metadata": {},
   "outputs": [
    {
     "name": "stdout",
     "output_type": "stream",
     "text": [
      "Digite o seu sálario por hora10\n",
      "Digite o número de horas trabalhadas no mês80\n",
      "Imposto de renda: 88.0, INSS: 64.0, Sindicato: 40.0\n",
      "Seu sálario é:608.0\n"
     ]
    }
   ],
   "source": [
    "sh = float(input(\"Digite o seu sálario por hora\"))\n",
    "hora    = int(input(\"Digite o número de horas trabalhadas no mês\"))\n",
    "\n",
    "salario   = sh * hora\n",
    "\n",
    "renda = salario * 11/100\n",
    "inss  = salario * 8/100\n",
    "sindicado = salario * 5/100\n",
    "\n",
    "total = (salario - (renda + inss + sindicado))\n",
    "print('Imposto de renda: {}, INSS: {}, Sindicato: {}\\nSeu sálario é:{}'.format(renda,inss,sindicado,total))"
   ]
  },
  {
   "cell_type": "markdown",
   "metadata": {},
   "source": [
    "9 - Faça um programa que leia 2 strings e informe o conteúdo delas seguido do seu\n",
    "comprimento. Informe também se as duas strings possuem o mesmo comprimento e\n",
    "são iguais ou diferentes no conteúdo."
   ]
  },
  {
   "cell_type": "code",
   "execution_count": null,
   "metadata": {},
   "outputs": [],
   "source": [
    "s1 = input(\"Digite uma string -> \")\n",
    "s2 = input(\"Digite a segunda string -> \")\n",
    "\n",
    "t = len(s1);\n",
    "t2 = len(s2);\n",
    "\n",
    "print(\"1 Tamanho de {}: {} caracteres\\n2 Tamanho de {}: {} caracteres\".format(s1,len(s1),s2,len(s2)))\n",
    "\n"
   ]
  },
  {
   "cell_type": "code",
   "execution_count": null,
   "metadata": {},
   "outputs": [],
   "source": []
  }
 ],
 "metadata": {
  "kernelspec": {
   "display_name": "Python 3",
   "language": "python",
   "name": "python3"
  },
  "language_info": {
   "codemirror_mode": {
    "name": "ipython",
    "version": 3
   },
   "file_extension": ".py",
   "mimetype": "text/x-python",
   "name": "python",
   "nbconvert_exporter": "python",
   "pygments_lexer": "ipython3",
   "version": "3.6.4"
  }
 },
 "nbformat": 4,
 "nbformat_minor": 2
}
